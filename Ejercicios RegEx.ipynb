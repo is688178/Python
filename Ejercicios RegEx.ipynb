{
 "cells": [
  {
   "cell_type": "markdown",
   "metadata": {},
   "source": [
    "<h1>Ejercicios RegEx</h1>"
   ]
  },
  {
   "attachments": {
    "image.png": {
     "image/png": "[encoded data removed]"
    }
   },
   "cell_type": "markdown",
   "metadata": {},
   "source": [
    "## Write a pattern that checks for the USA Zip Code. \n",
    "\n",
    "![image.png](attachment:image.png)\n",
    "\n",
    "The zip code format is 99999 or 99999-9999, where 9 represents a digit [0-9]\n",
    "\n",
    "Input:\n",
    "\n",
    "- 12345\n",
    "- 12234-1223\n",
    "- 1234\n",
    "- 123456\n",
    "- abcde\n",
    "\n",
    "Expected Output:\n",
    "\n",
    "- 12345\n",
    "- 12234-1223\n",
    "\n",
    "Code Sample"
   ]
  },
  {
   "cell_type": "code",
   "execution_count": null,
   "metadata": {},
   "outputs": [],
   "source": [
    "import re # python regex module\n",
    " \n",
    "# postal code iteration\n",
    "pattern = r\"\" # provide your pattern\n",
    "test_data = [\"12345\",\"12234-1223\",\"1234\",\"123456\",\"abcde\"]\n",
    " \n",
    "print ('Pattern:',pattern)\n",
    "print()\n",
    " \n",
    "for text in test_data:\n",
    "    print('Text:', text)\n",
    "    match = re.search(pattern, text)\n",
    " \n",
    "    if match:\n",
    "        print(' **match**', match.group(0), 'at index:', match.start())"
   ]
  },
  {
   "attachments": {
    "image.png": {
     "image/png": "[encoded data removed]"
    }
   },
   "cell_type": "markdown",
   "metadata": {},
   "source": [
    "## Write a pattern that checks for the Canadian Postal Code. \n",
    "\n",
    "![image.png](attachment:image.png)\n",
    "\n",
    "Format is: A9A 9A9 where, A represents a letter [a-zA-Z] and 9 represents a digit [0-9]\n",
    "\n",
    "Input:\n",
    "\n",
    "- L3V 0A0\n",
    "- L3V 9Z9\n",
    "- 1234\n",
    "- 123456\n",
    "- abcde\n",
    "- L6S 0A0\n",
    "- 6L5 A0A\n",
    "\n",
    "\n",
    "Expected Output:\n",
    "\n",
    "- L3V 0A0\n",
    "- L3V 9Z9\n",
    "- L6S 0A0\n",
    "\n",
    "\n",
    "Code Sample"
   ]
  },
  {
   "cell_type": "code",
   "execution_count": null,
   "metadata": {
    "scrolled": true
   },
   "outputs": [],
   "source": [
    "import re # python regex module\n",
    " \n",
    "# postal code iteration\n",
    "pattern = r\"\" # provide your pattern\n",
    "test_data = [\"L3V 0A0\",\"L3V 9Z9\",\"1234\",\"123456\",\"abcde\",\"L6S 0A0\",\"6L5 A0A\",\"233A6S 0A012345\"]\n",
    " \n",
    "print ('Pattern:',pattern)\n",
    "print()\n",
    " \n",
    "for text in test_data:\n",
    "    print('Text:', text)\n",
    "    match = re.search(pattern, text)\n",
    " \n",
    "    if match:\n",
    "        print(' **match**', match.group(0), 'at index:', match.start())"
   ]
  },
  {
   "attachments": {
    "image.png": {
     "image/png": "[encoded data removed]"
    }
   },
   "cell_type": "markdown",
   "metadata": {},
   "source": [
    "Write a pattern that checks for the Indian Postal Code.\n",
    "\n",
    "The format is: 999999 where, 9 represents a digit [0-9]\n",
    "\n",
    "![image.png](attachment:image.png)\n",
    "\n",
    "Input:\n",
    "\n",
    "- 744302\n",
    "- 744301\n",
    "- 783129\n",
    "- 403801\n",
    "- abcdef\n",
    "- 99999999\n",
    "- 6L5 A0A\n",
    "- 123456\n",
    "- 0A0123456\n",
    "\n",
    "\n",
    "Expected Output:\n",
    "\n",
    "- 744302\n",
    "- 744301\n",
    "- 783129\n",
    "- 403801\n",
    "- 123456\n",
    "\n",
    "\n",
    "Code Sample\n"
   ]
  },
  {
   "cell_type": "code",
   "execution_count": null,
   "metadata": {},
   "outputs": [],
   "source": [
    "import re # python regex module\n",
    " \n",
    "# postal code iteration\n",
    "pattern = r\"\" # provide your pattern\n",
    "test_data = [\"744302\",\"744301\",\"783129\",\"403801\",\"abcde\",\"99999999\",\"6L5 A0A\",\"123456\", \"0A0123456\"] # list of input\n",
    " \n",
    "print ('Pattern:',pattern)\n",
    "print()\n",
    " \n",
    "for text in test_data:\n",
    "    print('Text:', text)\n",
    "    match = re.search(pattern, text)\n",
    " \n",
    "    if match:\n",
    "        print(' **match**', match.group(0), 'at index:', match.start())"
   ]
  },
  {
   "cell_type": "code",
   "execution_count": null,
   "metadata": {},
   "outputs": [],
   "source": []
  }
 ],
 "metadata": {
  "kernelspec": {
   "display_name": "Python 3 (ipykernel)",
   "language": "python",
   "name": "python3"
  },
  "language_info": {
   "codemirror_mode": {
    "name": "ipython",
    "version": 3
   },
   "file_extension": ".py",
   "mimetype": "text/x-python",
   "name": "python",
   "nbconvert_exporter": "python",
   "pygments_lexer": "ipython3",
   "version": "3.8.18"
  }
 },
 "nbformat": 4,
 "nbformat_minor": 1
}
